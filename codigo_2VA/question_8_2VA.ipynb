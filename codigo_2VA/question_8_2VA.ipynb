{
 "cells": [
  {
   "cell_type": "code",
   "execution_count": 1,
   "id": "335a11",
   "metadata": {
    "collapsed": false
   },
   "outputs": [
    {
     "name": "stdout",
     "output_type": "stream",
     "text": [
      "A assinatura é inválida.\n"
     ]
    }
   ],
   "source": [
    "from sage.modules.free_module_element import vector\n",
    "from Crypto.Util.number import inverse\n",
    "\n",
    "# Dados do problema (ajuste os valores de acordo com cada parte)\n",
    "N = 13962799\n",
    "e = 65537  # Escolhendo um valor comum para e\n",
    "valor_para_assinatura = 821\n",
    "assinatura = 8674413\n",
    "\n",
    "# Encontrar os fatores primos de N (pode ser computacionalmente caro para números grandes)\n",
    "# Para fins didáticos, vamos assumir que os fatores já são conhecidos (ou use fatoração)\n",
    "p = 3823\n",
    "q = 3653\n",
    "\n",
    "# Calcular a função totiente de Euler\n",
    "phi = (p - 1) * (q - 1)\n",
    "\n",
    "# Verificar se e é coprimo com phi (opcional, mas recomendado)\n",
    "if gcd(e, phi) != 1:\n",
    "    print(\"e não é coprimo com phi. Escolha outro valor para e.\")\n",
    "    exit()\n",
    "\n",
    "# Calcular a chave privada d\n",
    "d = inverse(e, phi)\n",
    "\n",
    "# Descriptografar a assinatura para obter a mensagem original\n",
    "mensagem_recuperada = pow(assinatura, d, N)\n",
    "\n",
    "# Comparar a mensagem recuperada com a mensagem original\n",
    "if mensagem_recuperada == valor_para_assinatura:\n",
    "    print(\"A assinatura é válida.\")\n",
    "else:\n",
    "    print(\"A assinatura é inválida.\")"
   ]
  }
 ],
 "metadata": {
  "kernelspec": {
   "argv": [
    "sage-10.4",
    "--python",
    "-m",
    "sage.repl.ipython_kernel",
    "--matplotlib=inline",
    "-f",
    "{connection_file}"
   ],
   "display_name": "SageMath 10.4",
   "env": {
   },
   "language": "sagemath",
   "metadata": {
    "cocalc": {
     "description": "Open-source mathematical software system",
     "priority": 10,
     "url": "https://www.sagemath.org/"
    }
   },
   "name": "sage-10.4",
   "resource_dir": "/ext/jupyter/kernels/sage-10.4"
  },
  "language_info": {
   "codemirror_mode": {
    "name": "ipython",
    "version": 3
   },
   "file_extension": ".py",
   "mimetype": "text/x-python",
   "name": "python",
   "nbconvert_exporter": "python",
   "pygments_lexer": "ipython3",
   "version": "3.12.4"
  }
 },
 "nbformat": 4,
 "nbformat_minor": 4
}