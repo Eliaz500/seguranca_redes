{
 "cells": [
  {
   "cell_type": "code",
   "execution_count": 2,
   "id": "5b0dd9",
   "metadata": {
    "collapsed": false
   },
   "outputs": [
    {
     "name": "stdout",
     "output_type": "stream",
     "text": [
      "Chave privada d: 33804899\n"
     ]
    }
   ],
   "source": [
    "from sage.modules.free_module_element import vector\n",
    "from Crypto.Util.number import inverse\n",
    "\n",
    "p = 6569\n",
    "q = 8089\n",
    "e = 11\n",
    "\n",
    "# Módulo\n",
    "n = p*q\n",
    "# Função de Euler\n",
    "phi = (p-1)*(q-1)\n",
    "\n",
    "# Calcular a chave privada d\n",
    "d = inverse(e, phi)\n",
    "print(\"Chave privada d:\", d)"
   ]
  },
  {
   "cell_type": "code",
   "execution_count": 3,
   "id": "c34a21",
   "metadata": {
    "collapsed": false
   },
   "outputs": [
    {
     "name": "stdout",
     "output_type": "stream",
     "text": [
      "Texto plano m: 3167473\n"
     ]
    }
   ],
   "source": [
    "c = 28901722\n",
    "m = pow(c, d, n)\n",
    "print(\"Texto plano m:\", m)"
   ]
  },
  {
   "cell_type": "code",
   "execution_count": 7,
   "id": "f01236",
   "metadata": {
    "collapsed": false
   },
   "outputs": [
    {
     "name": "stdout",
     "output_type": "stream",
     "text": [
      "Texto plano m: 3167473\n"
     ]
    }
   ],
   "source": [
    "from sage.modules.free_module_element import vector\n",
    "from Crypto.Util.number import inverse\n",
    "\n",
    "# Parâmetros RSA\n",
    "p = 6569\n",
    "q = 8089\n",
    "e = 11\n",
    "c = 28901722\n",
    "\n",
    "# Cálculos\n",
    "n = p*q\n",
    "phi = (p-1)*(q-1)\n",
    "d = inverse(e, phi)\n",
    "\n",
    "# Descriptografia\n",
    "m = pow(c, d, n)\n",
    "\n",
    "print(\"Texto plano m:\", m)\n"
   ]
  },
  {
   "cell_type": "code",
   "execution_count": 9,
   "id": "0fe7fd",
   "metadata": {
    "collapsed": false
   },
   "outputs": [
    {
     "name": "stdout",
     "output_type": "stream",
     "text": [
      "Cifrado c: 2997453\n"
     ]
    }
   ],
   "source": [
    "from sage.modules.free_module_element import vector\n",
    "from Crypto.Util.number import inverse\n",
    "\n",
    "# Parâmetros RSA\n",
    "n = 37617577  # Módulo\n",
    "e = 529       # Expoente público\n",
    "\n",
    "\n",
    "# Criptografar\n",
    "c = pow(m, e, n)\n",
    "\n",
    "print(\"Cifrado c:\", c)"
   ]
  },
  {
   "cell_type": "code",
   "execution_count": 10,
   "id": "27aa5e",
   "metadata": {
    "collapsed": false
   },
   "outputs": [
    {
     "name": "stdout",
     "output_type": "stream",
     "text": [
      "Expoente público e: 5982367\n"
     ]
    }
   ],
   "source": [
    "from sage.modules.free_module_element import vector\n",
    "from Crypto.Util.number import inverse\n",
    "\n",
    "# Dados fornecidos\n",
    "p = 1723\n",
    "q = 5381\n",
    "d = 223\n",
    "\n",
    "# Cálculos\n",
    "n = p * q\n",
    "phi = (p - 1) * (q - 1)\n",
    "\n",
    "# Encontrar o expoente público (e)\n",
    "e = inverse(d, phi)\n",
    "\n",
    "print(\"Expoente público e:\", e)"
   ]
  },
  {
   "cell_type": "code",
   "execution_count": 11,
   "id": "5b12ea",
   "metadata": {
    "collapsed": false
   },
   "outputs": [
    {
     "name": "stdout",
     "output_type": "stream",
     "text": [
      "Chave pública (N, e): (17770889235481208696259702265635205976119564873135687268929453101938311899867348173277130731228534725157732990013967817110297961672957980703532981728985292121883609867273877815775265785535451666082282976358819657751989193397783185558922106200288217770504741797191082396074120314452289570620059956465880481354593972000159121396359749780706639483771751040317397041897439375378623341581487654750201998724725990574583940290537862242193284854936301693727944261186140349291976897082299630363415510061880458798236824875505708489166743257040875677055816637023575058410630363398504793357820055563081458299233131706333315444971, 65537)\n",
      "Chave privada (N, d): (17770889235481208696259702265635205976119564873135687268929453101938311899867348173277130731228534725157732990013967817110297961672957980703532981728985292121883609867273877815775265785535451666082282976358819657751989193397783185558922106200288217770504741797191082396074120314452289570620059956465880481354593972000159121396359749780706639483771751040317397041897439375378623341581487654750201998724725990574583940290537862242193284854936301693727944261186140349291976897082299630363415510061880458798236824875505708489166743257040875677055816637023575058410630363398504793357820055563081458299233131706333315444971, 5746111567344893624707254691412113002425342924250703402900408024217995444864564675525515011756166430578414022481743015584850147333745099243001165995070377425802761443114587863254248092852613886139885233563021611721964737435226261274991506362670058482609304414670739079530748792034399931199317798151707787667721871914820656687831802846608016961707410329706465369674787933028586350594722663754714240014990146879283052593176780971822197652843795819501886179689566634673916472433493682493333937767511310116429047622423798443881850353389932609772205183840051136424468620938792499313226235826660287718312760170675580266689)\n",
      "Mensagem cifrada: 531230306923188304224869405557529603753613264765525873402465817638228844759080758054942927353935795340281302164064717457755080232907459457140044418190020395457084722949738274062287233802862801408327176081664059181521111457603826915540295563526250742414558149227517742308409401401700209205622464995086443509626804360766993820777826947029531229518177372384308036740004455233085241980727351669381649004949728068619391648599054948924965458555827405305011068715485296099447539192195018425098285172732602271978991286322099351773958687748832710634617066200294487511420658826072155724564435185036737601792911135829811314227\n",
      "Mensagem descriptografada: Olá, mundo!\n"
     ]
    }
   ],
   "source": [
    "from sage.rings.finite_rings.integer_mod_ring import IntegerModRing\n",
    "from Crypto.Util.number import getPrime\n",
    "\n",
    "# Gerando os primos p e q (ajuste os bits para maior segurança)\n",
    "p = getPrime(1024)\n",
    "q = getPrime(1024)\n",
    "\n",
    "# Calculando o módulo N e a função totiente de Euler φ(N)\n",
    "n = p * q\n",
    "phi = (p - 1) * (q - 1)\n",
    "\n",
    "# Escolhendo um expoente público e coprimo com phi\n",
    "e = 65537  # Um valor comummente utilizado\n",
    "\n",
    "# Calculando o expoente privado d\n",
    "d = inverse_mod(e, phi)\n",
    "\n",
    "# Imprimindo as chaves\n",
    "print(\"Chave pública (N, e):\", (n, e))\n",
    "print(\"Chave privada (N, d):\", (n, d))\n",
    "\n",
    "# Mensagem a ser criptografada (convertida para um número inteiro)\n",
    "mensagem = \"Olá, mundo!\"\n",
    "m = int.from_bytes(mensagem.encode('utf-8'), 'big')\n",
    "\n",
    "# Criptografando a mensagem\n",
    "c = pow(m, e, n)\n",
    "print(\"Mensagem cifrada:\", c)\n",
    "\n",
    "# Descriptografando a mensagem\n",
    "m_descriptografada = pow(c, d, n)\n",
    "mensagem_descriptografada = m_descriptografada.to_bytes((m_descriptografada.bit_length() + 7) // 8, 'big').decode('utf-8')\n",
    "print(\"Mensagem descriptografada:\", mensagem_descriptografada)"
   ]
  }
 ],
 "metadata": {
  "kernelspec": {
   "argv": [
    "sage-10.4",
    "--python",
    "-m",
    "sage.repl.ipython_kernel",
    "--matplotlib=inline",
    "-f",
    "{connection_file}"
   ],
   "display_name": "SageMath 10.4",
   "env": {
   },
   "language": "sagemath",
   "metadata": {
    "cocalc": {
     "description": "Open-source mathematical software system",
     "priority": 10,
     "url": "https://www.sagemath.org/"
    }
   },
   "name": "sage-10.4",
   "resource_dir": "/ext/jupyter/kernels/sage-10.4"
  },
  "language_info": {
   "codemirror_mode": {
    "name": "ipython",
    "version": 3
   },
   "file_extension": ".py",
   "mimetype": "text/x-python",
   "name": "python",
   "nbconvert_exporter": "python",
   "pygments_lexer": "ipython3",
   "version": "3.12.4"
  }
 },
 "nbformat": 4,
 "nbformat_minor": 4
}